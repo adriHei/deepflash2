{
 "cells": [
  {
   "cell_type": "markdown",
   "metadata": {},
   "source": [
    "# Workflow"
   ]
  },
  {
   "cell_type": "markdown",
   "metadata": {},
   "source": [
    "## Using Google Colab:\n",
    "\n",
    "> Note: If not already done, we recommend you to read the [Before you get started guide](before_you_get_started.html) first.  "
   ]
  },
  {
   "cell_type": "markdown",
   "metadata": {},
   "source": [
    "### For using deepflash2 in Google Colab follow this link\n",
    "\n",
    "(https://colab.research.google.com/github/matjesg/deepflash2/blob/master/nbs/deepflash2.ipynb)"
   ]
  },
  {
   "cell_type": "markdown",
   "metadata": {},
   "source": [
    "### 2. Setup Environment\n",
    "\n",
    "At first you must allow google colab to run the notebook from GitHub by accepting the prompt."
   ]
  },
  {
   "cell_type": "markdown",
   "metadata": {},
   "source": [
    "### 3. Connect your google drive\n",
    "\n",
    "It is recommended to connect your runtime to google drive.\n",
    "You can allow it with ‘y’ for yes or deny it with ‘n’ for no.\n",
    "\n",
    "Go to the Url that is presented to you in the “Set up environment cell”.\n",
    "There you can choose your google drive account to connect to google colab.\n",
    "\n",
    "After you have successfully connected the accounts, google will present you a one time authorization code. Copy this code and enter it in the according field in the “Set up environment cell” and continue by pressing the enter key.\n",
    "\n",
    ">Note: The authentication key will only work with this runtime. When you close google colab you have to request a new code as described. \n",
    "\n",
    "\n",
    "Make sure that the google drive account you use with google colab matches the one you connect to the runtime.\n",
    "\n",
    ">Note: You can **reset the runtime** when DeepFlash2 does not respond anymore.<br>\n",
    "Click on runtime in the left upper toolbar and select **factory reset runtime**.<br>\n",
    "Then you should reload the page and start again. \n",
    "![reset runtime](./media/screen_captures/GUI_reset_runtime.gif)"
   ]
  },
  {
   "cell_type": "markdown",
   "metadata": {},
   "source": [
    "### 4. Start deepflash2 UI\n",
    "\n",
    ">Note: You have to create a Folder Structure as described [here](before_you_get_started.ipynb), before starting the program.\n",
    "\n",
    "When you run this cell, the UI opens. At first click “Select Project Folder”. \n",
    "This unfolds your google drive main directory.\n",
    "\n",
    "There you can browse through the folders and select the correct folders.\n",
    "After that hit Save. Now the selected folder is connected to deepFlash2.\n",
    "\n",
    "The select folder tab will change to the name of the selected folder.\n",
    "If you want to change the folder, click this button again."
   ]
  },
  {
   "cell_type": "markdown",
   "metadata": {},
   "source": [
    "### 5. GT Estimation\n",
    "\n",
    "#### 5.1. Expert Annotations\n",
    "\n",
    "You can estimate the ground truth by selecting images that are segmented beforehand by different experts. We recommend at least twelve different images from three different experts. After you have selected the desired data, you can press Load Data.\n",
    " \n",
    "#### 5.2. Ground Truth Estimation:\n",
    "\n",
    "When you have uploaded the images you can start the ground truth estimation by selecting one of the presented algorithms.\n",
    "At the time of writing you can select between STAPLE and Majority Voting.\n",
    "\n",
    "We recommend the STAPLE Algorithm when:\n",
    "\n",
    "- the experience of experts that have annotated the images vary or is unknown\n",
    "- you need more precise results when compared with the Majority Voting Algorithm\n",
    "\n",
    "We recommend the Majority Voting Algorithm when:\n",
    "\n",
    "- Use this algorithm if you can be sure that the expert annotations have no repeated errors.\n",
    "\n",
    "When the estimation is finished you can download the ground truth images for further use in training. If you proceed with training, deepFlash2 will automatically select them for you. "
   ]
  },
  {
   "cell_type": "markdown",
   "metadata": {},
   "source": [
    "### 6. Training the model\n",
    "\n",
    "In this step you will create a model that you can use to automatically annotate new images.\n",
    "\n",
    "#### 6.1 Data\n",
    "\n",
    "First, you have to provide training images. These should be unsegmented and contain the objects you want the neural network to find.\n",
    "Second, you have to offer segmentation masks you have to create beforehand.\n",
    "DeepFlash2 automatically recognizes the number of masks you have provided.  \n",
    "Third, you have to select a number of classes. The number of classes to choose depends on the characteristics of the segmentation. \n",
    "E.g., two for binary segmentation (foreground and background class).\n",
    "Fourth, you can provide instance labels. This step is optional.\n",
    "\n",
    "#### 6.2 Ensemble Training\n",
    "\n",
    ">Note: We recommend that you use 70% of your image data for model training and reserve 30% for later validation. DeepFlash2 will automatically split the images you provide for you.\n",
    "\n",
    "You can use the Ensemble training to optimize the results.\n",
    "First choose a number of models within an ensemble. \n",
    "Depending on the data, ensembles should at least have three models.\n",
    "If you are experimenting with custom train settings, try only one model first. \n",
    "\n",
    "#### 6.3 Validation\n",
    "\n",
    ">Note: We recommend that you reserve 30% of your image data for validation.\n",
    "\n",
    "Here you can validate the performance of the model you have trained before with unsegmented images.\n"
   ]
  },
  {
   "cell_type": "markdown",
   "metadata": {},
   "source": [
    "### 7. Prediction\n",
    "\n",
    "In this section you can use a model to segment new images and evaluate the\n",
    "precision.\n",
    "\n",
    "#### 7.1 Data and Ensemble\n",
    "\n",
    "First you have to upload the images you want the model to work on.\n",
    "Second you have to select the model or model ensemble  you want to apply on the images. If you have used deepFlash2 to train the model, it will automatically select the model/s in the \n",
    "\n",
    "#### 7.2 Prediction and Quality Control\n",
    "\n",
    "Here you can run the prediction and download the results.\n",
    "You can enable test-time augmentation for prediction (more reliable and accurate, but slow).\n"
   ]
  }
 ],
 "metadata": {
  "kernelspec": {
   "display_name": "Python 3",
   "language": "python",
   "name": "python3"
  }
 },
 "nbformat": 4,
 "nbformat_minor": 2
}
