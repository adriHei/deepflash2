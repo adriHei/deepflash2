{
 "cells": [
  {
   "cell_type": "markdown",
   "metadata": {},
   "source": [
    "# Before you get started"
   ]
  },
  {
   "cell_type": "markdown",
   "metadata": {},
   "source": [
    "## General Information for deepflash2\n",
    "\n",
    "When a star (*) appears in the name of a button a change in the data or selection was recognized by the program. When you press the according button the change will be applied."
   ]
  },
  {
   "cell_type": "markdown",
   "metadata": {},
   "source": [
    "## Supported image formats\n",
    "\n",
    "We recommend ImageJ/Fiji to format your Images. Click to install [Fiji/ImageJ](https://imagej.net/software/fiji/).\n",
    "  \n",
    "DeepFlash2 can handle different types of imagedata. Recommended image formats are jpeg , png, or tiff.\n",
    "  \n",
    "You should avoid gif image format."
   ]
  },
  {
   "cell_type": "markdown",
   "metadata": {},
   "source": [
    "## Required Folder Structure and Naming Convention to access you data\n",
    "\n",
    "Required Folder Structure and Naming Convention when using google drive:\n",
    "\n",
    ">Note: You have to follow this section when using google drive as a storage for the data you want to use with deepFlash2. This applies to the local installation as well as \n",
    ">to google colab.\n",
    "\n",
    "Exemplary folder structure:\n",
    "\n",
    "**Main directory:**\n",
    "  \n",
    "![main directory image](./media/images/df2_exemplaryFolderStructure_mainDirectory.png)\n",
    "  \n",
    "**GT Estimation:**\n",
    "\n",
    "![gt estimation](./media/images/df2_exemplaryFolderStructure_GTestimation.png)\n",
    "\n",
    "[folder] GT_estimation  \n",
    "&nbsp;&nbsp;[folder] expert1  \n",
    "&nbsp;&nbsp;&nbsp;&nbsp;[file] mask1.png  \n",
    "&nbsp;&nbsp;&nbsp;&nbsp;[file] mask2.png  \n",
    "&nbsp;&nbsp;[folder] expert2  \n",
    "&nbsp;&nbsp;&nbsp;&nbsp;[file] mask1.png  \n",
    "&nbsp;&nbsp;&nbsp;&nbsp;[file] mask2.png  \n",
    "&nbsp;&nbsp;[folder] expert3  \n",
    "&nbsp;&nbsp;&nbsp;&nbsp;[file] mask1.png  \n",
    "&nbsp;&nbsp;&nbsp;&nbsp;[file] mask2.png  \n",
    "\n",
    "  \n",
    "**Training:**\n",
    "  \n",
    "![gt estimation](./media/images/df2_exemplaryFolderStructure_Training.png)\n",
    "\n",
    "[folder] Training  \n",
    "&nbsp;&nbsp;[folder] images  \n",
    "&nbsp;&nbsp;&nbsp;&nbsp;[file] 0001.tif  \n",
    "&nbsp;&nbsp;&nbsp;&nbsp;[file] 0002.tif  \n",
    "&nbsp;&nbsp;[folder] masks  \n",
    "&nbsp;&nbsp;&nbsp;&nbsp;[file] 0001_mask.png  \n",
    "&nbsp;&nbsp;&nbsp;&nbsp;[file] 0002_mask.png  \n",
    "\n",
    "  \n",
    "**Prediction:**\n",
    "  \n",
    "![gt estimation](./media/images/df2_exemplaryFolderStructure_Prediction.png)\n",
    "  \n",
    "[folder] Prediction   \n",
    "&nbsp;&nbsp;[folder] images  \n",
    "&nbsp;&nbsp;&nbsp;&nbsp;[file] 0001.tif  \n",
    "&nbsp;&nbsp;&nbsp;&nbsp;[file] 0002.tif  \n",
    "&nbsp;&nbsp;[folder] ensemble  \n",
    "&nbsp;&nbsp;&nbsp;&nbsp;[file] unext50_deepflash2_model-1.pth  \n",
    "&nbsp;&nbsp;&nbsp;&nbsp;[file] unext50_deepflash2_model-2.pth  "
   ]
  }
 ],
 "metadata": {
  "kernelspec": {
   "display_name": "Python 3.9.4 64-bit",
   "name": "python396jvsc74a57bd0aee8b7b246df8f9039afb4144a1f6fd8d2ca17a180786b69acc140d282b71a49"
  }
 },
 "nbformat": 4,
 "nbformat_minor": 2
}
