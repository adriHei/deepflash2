{
  "nbformat": 4,
  "nbformat_minor": 0,
  "metadata": {
    "accelerator": "GPU",
    "colab": {
      "name": "deepflash2.ipynb",
      "provenance": [],
      "collapsed_sections": [],
      "toc_visible": true
    },
    "kernelspec": {
      "display_name": "Python 3",
      "language": "python",
      "name": "python3"
    }
  },
  "cells": [
    {
      "cell_type": "markdown",
      "metadata": {
        "id": "OcsetTMwKXqC"
      },
      "source": [
        "# Welcome to the GUI of\n",
        "\n",
        "![deepflash2](https://raw.githubusercontent.com/matjesg/deepflash2/master/nbs/media/logo/logo_deepflash2_transp-02.png)\n",
        "\n",
        "**Watch the [deepflash2 tutorials](https://matjesg.github.io/deepflash2/tutorial.html) and read the [deepflash2 docs](https://matjesg.github.io/deepflash2/)**.\n",
        "\n",
        "If you're working on [Google Colab](https://colab.research.google.com):\n",
        "- Use Google Chrome or Firefox for full functionality\n",
        "- Connect to your [Google Drive](https://drive.google.com/drive/my-drive) (recommended).\n"
      ]
    },
    {
      "cell_type": "code",
      "metadata": {
        "cellView": "form",
        "id": "ovLQvrybRfBd"
      },
      "source": [
        "#@title Set up environment\n",
        "#@markdown Please run this cell to get started.\n",
        "try:\n",
        "    import deepflash2\n",
        "except ImportError:\n",
        "    #!pip install -Uqq deepflash2\n",
        "    !pip install -Uqq git+https://github.com/matjesg/deepflash2.git@master\n",
        "from deepflash2.gui import GUI, _connect_to_drive\n",
        "%xmode Plain\n",
        "path=_connect_to_drive()"
      ],
      "execution_count": null,
      "outputs": []
    },
    {
      "cell_type": "code",
      "metadata": {
        "cellView": "form",
        "id": "RjczlpgnRfBf"
      },
      "source": [
        "#@title Start deepflash2 GUI\n",
        "#@markdown If something goes wrong, click\n",
        "#@markdown Click \"Runtime\" -> \"Factory Reset Runtime\" (on Colab) or \n",
        "#@markdown \"Kernel\" -> \"Restart Kernel\" (Jupyter) and start over!\n",
        "t = GUI(path);"
      ],
      "execution_count": null,
      "outputs": []
    },
    {
      "cell_type": "code",
      "metadata": {
        "cellView": "form",
        "id": "fLRtUEHraPMA"
      },
      "source": [
        "#@markdown  On [Google Colab](https://colab.research.google.com): Run this cell during training/prediction to avoid a disconnect. Stop execution to continue.\n",
        "try: \n",
        "  while True: pass\n",
        "except: \n",
        "  pass"
      ],
      "execution_count": null,
      "outputs": []
    }
  ]
}